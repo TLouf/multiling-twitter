{
 "cells": [
  {
   "cell_type": "code",
   "execution_count": 1,
   "id": "graduate-forum",
   "metadata": {},
   "outputs": [],
   "source": [
    "# Reload all src modules every time before executing the Python code typed\n",
    "%load_ext autoreload\n",
    "%autoreload 2"
   ]
  },
  {
   "cell_type": "code",
   "execution_count": 2,
   "id": "suitable-retail",
   "metadata": {},
   "outputs": [],
   "source": [
    "import os\n",
    "import sys\n",
    "import cProfile\n",
    "import pandas as pd\n",
    "import geopandas as geopd\n",
    "import json\n",
    "import numpy as np\n",
    "import matplotlib.cm as cm\n",
    "import matplotlib.pyplot as plt\n",
    "import descartes\n",
    "import src.utils.geometry as geo\n",
    "import src.utils.make_config as make_config\n",
    "import src.utils.scales as scales\n",
    "import src.utils.places_to_cells as places_to_cells\n",
    "import src.data.shp_extract as shp_extract\n",
    "import src.data.metrics as metrics\n",
    "import src.utils.places_to_cells as places_to_cells\n",
    "import src.visualization.grid_viz as grid_viz\n",
    "import src.visualization.helpers as helpers_viz\n",
    "import src.models.mobility as mobility\n",
    "from dotenv import load_dotenv\n",
    "load_dotenv()\n",
    "pd.reset_option(\"display.max_rows\")"
   ]
  },
  {
   "cell_type": "markdown",
   "id": "brave-nicholas",
   "metadata": {},
   "source": [
    "# Config"
   ]
  },
  {
   "cell_type": "code",
   "execution_count": 537,
   "id": "pressed-prisoner",
   "metadata": {},
   "outputs": [],
   "source": [
    "data_dir_path = os.environ['DATA_DIR']\n",
    "tweets_files_format = 'tweets_{}_{}_{}.json.gz'\n",
    "places_files_format = 'places_{}_{}_{}.json.gz'\n",
    "ssh_domain = os.environ['IFISC_DOMAIN']\n",
    "ssh_username = os.environ['IFISC_USERNAME']\n",
    "mapbox_token = os.environ['MAPBOX_TOKEN']\n",
    "project_data_dir = os.path.join('..', 'data')\n",
    "external_data_dir = os.path.join(project_data_dir, 'external')\n",
    "interim_data_dir = os.path.join(project_data_dir, 'interim')\n",
    "processed_data_dir = os.path.join(project_data_dir, 'processed')\n",
    "cell_data_path_format = os.path.join(\n",
    "    processed_data_dir, '{0}', '{0}_cc={1}_r={2}_cell_size={3}m.{4}')\n",
    "latlon_proj = 'epsg:4326'\n",
    "user_level_label = '{}-speakers'\n",
    "\n",
    "country_codes = ('BE', 'BO', 'CA', 'CH', 'EE', 'ES', 'FR', 'HK', 'ID', 'LT', \n",
    "                 'LV', 'MY', 'PE', 'RO', 'SG', 'TN', 'UA')\n",
    "with open(os.path.join(external_data_dir, 'countries.json'), encoding='utf-8') as f:\n",
    "    countries_study_data = json.load(f)\n",
    "with open(os.path.join(external_data_dir, 'langs_agg.json')) as f:\n",
    "    langs_agg_dict = json.load(f)\n",
    "fig_dir = os.path.join('..', 'reports', 'figures')\n",
    "save_path_format = os.path.join(\n",
    "    fig_dir, '{cc}', '{metric}', \n",
    "    '{metric}_{region}_{grp}cell_size={cell_size}m.pdf')"
   ]
  },
  {
   "cell_type": "code",
   "execution_count": 243,
   "id": "insured-program",
   "metadata": {},
   "outputs": [],
   "source": [
    "publication_plot = True\n",
    "plt.rc('text', usetex=publication_plot)\n",
    "if publication_plot:\n",
    "    small_size = 7\n",
    "    plt.rc('font', size=small_size)\n",
    "    plt.rc('axes', labelsize=small_size+3)\n",
    "    plt.rc('xtick', labelsize=small_size)\n",
    "    plt.rc('ytick', labelsize=small_size)\n",
    "    plt.rc('legend', fontsize=small_size, title_fontsize=small_size)\n",
    "    plt.rcParams['text.latex.preamble'] = r'\\usepackage{lmodern} \\renewcommand{\\familydefault}{\\sfdefault}'\n",
    "    # Set to a column width, then to be adjusted by a factor.\n",
    "    column_width_in = 8.7 / 2.54\n",
    "    intercol_width_in = (17.8-8.7*2) / 2.54\n",
    "    plt.rcParams[\"figure.figsize\"] = (column_width_in, column_width_in*3/4)\n",
    "    plt.rcParams[\"xtick.major.size\"] = 2\n",
    "    plt.rcParams[\"ytick.major.size\"] = plt.rcParams[\"xtick.major.size\"]\n",
    "else:\n",
    "    plt.rc('font', size=11)\n",
    "    plt.rcParams[\"figure.figsize\"] = (10, 6)\n",
    "    \n",
    "annotate_kwargs = {'fontfamily': 'Helvetica', 'fontsize': 14,\n",
    "                   'usetex': False}\n",
    "annotations = [chr(i).upper() for i in range(ord('a'), ord('z')+1)]"
   ]
  },
  {
   "cell_type": "code",
   "execution_count": 455,
   "id": "loved-drive",
   "metadata": {},
   "outputs": [],
   "source": [
    "count_dict = {'name': 'count', 'readable': 'Number', 'log_scale': True,\n",
    "              'total_count_col': 'total_count', 'vmin': 1, 'cmap': 'Purples'}\n",
    "repr_dict = {'name': 'repr', 'readable': 'Representation', 'log_scale': True,\n",
    "             'total_count_col': 'total_count', 'sym_about': 1}\n",
    "prop_dict = {'name': 'prop', 'readable': 'Proportion', 'log_scale': False, \n",
    "             'vmin': 0, 'vmax': 1, 'total_count_col': 'local_count'}\n",
    "conc_dict = {'name': 'conc', 'readable': 'Concentration', 'log_scale': False, \n",
    "             'total_count_col': 'total_count'}\n",
    "KL_dict = {'name': 'KL', 'readable': 'KL divergence', 'global_norm': True,\n",
    "           'scale_fun': metrics.max_kl, 'log_scale': False,\n",
    "           'total_count_col': 'total_count', 'sym_about': 0}\n",
    "KL_props_dict = {'name': 'KL_props', 'readable': 'KL divergence', 'log_scale': False,\n",
    "                 'total_count_col': 'local_count', 'cmap': 'Reds'}\n",
    "Hc_dict = {'name': 'Hc', 'readable': 'Concentration entropy', \n",
    "           'scale_fun': metrics.null_Hc, 'log_scale': False,\n",
    "           'total_count_col': 'local_count', 'sym_about': 1, \n",
    "           'global_norm': False}\n",
    "Hp_dict = {'name': 'Hp', 'readable': 'Relative proportion entropy', \n",
    "           'scale_fun': metrics.null_Hp, 'log_scale': False,\n",
    "           'total_count_col': 'local_count', 'sym_about': 1,\n",
    "           'cbar_label': r'$H_i^p / H_{\\mathrm{null}}^p$'}\n",
    "EMD_dict = {'name': 'EMD', 'readable': \"Earth mover's distance\", \n",
    "            'log_scale': False, 'total_count_col': 'total_count'}\n",
    "EMR_dict = {'name': 'EMR', 'readable': \"Earth Mover's Ratio\",\n",
    "            'pattern': 'EMR_{grp}_vs_tot',\n",
    "            'log_scale': False, 'total_count_col': 'total_count'}\n",
    "total_dict = {'conc_col': 'total_conc', 'grp_label': 'the total population'}"
   ]
  },
  {
   "cell_type": "markdown",
   "id": "divided-tablet",
   "metadata": {},
   "source": [
    "# Stat significance tests"
   ]
  },
  {
   "cell_type": "code",
   "execution_count": 5,
   "id": "hungarian-party",
   "metadata": {},
   "outputs": [],
   "source": [
    "cc = 'BE'\n",
    "region = None\n",
    "cell_size = 10000\n",
    "\n",
    "area_dict = make_config.area_dict(countries_study_data, cc, region=region)\n",
    "xy_proj = area_dict['xy_proj']\n",
    "area_name = area_dict['readable']\n",
    "plot_langs_dict = make_config.langs_dict(area_dict, user_level_label)\n",
    "plot_lings_dict = make_config.linguals_dict(area_dict)\n",
    "plot_multi_mono_dict = make_config.multi_mono_dict(plot_lings_dict)\n",
    "shapefile_dict = make_config.shapefile_dict(area_dict, cc, region=region)\n",
    "    \n",
    "shapefile_path = os.path.join(\n",
    "    external_data_dir, 'Apn_AdRe.shp', 'Apn_AdRe.shp')\n",
    "shape_df = geopd.read_file(shapefile_path)\n",
    "shape_df = geo.extract_shape(shape_df, shapefile_dict, xy_proj=xy_proj,\n",
    "                             min_area=10**4, simplify_tol=50)\n",
    "\n",
    "cell_data_path = cell_data_path_format.format(\n",
    "    'users_cell_data', cc, area_name, cell_size, 'geojson')\n",
    "cell_plot_df = geopd.read_file(cell_data_path)\n",
    "cell_plot_df.index = cell_plot_df['cell_id']\n",
    "cell_plot_df, plot_langs_dict = metrics.calc_by_cell(\n",
    "    cell_plot_df, plot_langs_dict, cell_size=cell_size)\n",
    "cell_plot_df, plot_lings_dict = metrics.calc_by_cell(\n",
    "    cell_plot_df, plot_lings_dict, cell_size=cell_size)"
   ]
  },
  {
   "cell_type": "code",
   "execution_count": 131,
   "id": "enabling-junior",
   "metadata": {},
   "outputs": [
    {
     "name": "stderr",
     "output_type": "stream",
     "text": [
      "/home/thomaslouf/Documents/code/multiling-twitter/.cenv/lib/python3.7/site-packages/pandas/core/indexing.py:1637: SettingWithCopyWarning:\n",
      "\n",
      "\n",
      "A value is trying to be set on a copy of a slice from a DataFrame\n",
      "\n",
      "See the caveats in the documentation: https://pandas.pydata.org/pandas-docs/stable/user_guide/indexing.html#returning-a-view-versus-a-copy\n",
      "\n"
     ]
    },
    {
     "name": "stdout",
     "output_type": "stream",
     "text": [
      "100 iterations done for N_samples=1500\n",
      "100 iterations done for N_samples=7000\n",
      "100 iterations done for N_samples=50000\n"
     ]
    }
   ],
   "source": [
    "d_matrix = None\n",
    "norm = None\n",
    "nr_iter = 100\n",
    "N_samples_arr = [100,200, 300, 400, 500, 600, 700, 800, 900, 1000, 1500, 2000,\n",
    "                 3000, 4000, 5000, 7000, 10000, 50000, 100000]\n",
    "res_dict = {N_samples: np.zeros(nr_iter) for N_samples in N_samples_arr}\n",
    "for N_samples in N_samples_arr:\n",
    "    # draws could be made here, in nr_iter x N_samples matrix\n",
    "    res_dict[N_samples] = np.zeros(nr_iter)\n",
    "    for k in range(nr_iter):\n",
    "        draw = np.random.random(N_samples)\n",
    "        cum_distrib = cell_plot_df['total_conc'].cumsum().values\n",
    "        assignment = np.searchsorted(cum_distrib, draw)\n",
    "        i_cells, counts = np.unique(assignment, return_counts=True)\n",
    "        cell_plot_df['sample_conc'] = 0\n",
    "        cell_plot_df['sample_conc'].iloc[i_cells] = counts / N_samples\n",
    "        emd_value, norm, d_matrix = metrics.earthmover_distance(\n",
    "            cell_plot_df, 'sample_conc', 'total_conc', d_matrix=d_matrix, norm=norm)\n",
    "        res_dict[N_samples][k] = emd_value / norm\n",
    "    print(f'{nr_iter} iterations done for N_samples={N_samples}')"
   ]
  },
  {
   "cell_type": "code",
   "execution_count": 129,
   "id": "banned-jonathan",
   "metadata": {},
   "outputs": [
    {
     "data": {
      "image/png": "[encoded data removed]",
      "text/plain": [
       "<Figure size 432x288 with 1 Axes>"
      ]
     },
     "metadata": {
      "needs_background": "light"
     },
     "output_type": "display_data"
    }
   ],
   "source": [
    "fig, ax = plt.subplots()\n",
    "xticks = list(res_dict.keys())\n",
    "emr_samples = [emr for emr in res_dict.values()]\n",
    "w = 0.05\n",
    "width_fun = lambda p, w: 10**(np.log10(p)+w/2.)-10**(np.log10(p)-w/2.)\n",
    "_ = ax.boxplot(emr_samples, widths=width_fun(xticks, w), positions=xticks)\n",
    "ax.set_xscale('log')\n",
    "fig.show()"
   ]
  },
  {
   "cell_type": "code",
   "execution_count": 155,
   "id": "remarkable-humidity",
   "metadata": {},
   "outputs": [
    {
     "data": {
      "image/png": "[encoded data removed]",
      "text/plain": [
       "<Figure size 432x288 with 1 Axes>"
      ]
     },
     "metadata": {
      "needs_background": "light"
     },
     "output_type": "display_data"
    }
   ],
   "source": [
    "fig, ax = plt.subplots()\n",
    "xticks = list(res_dict.keys())\n",
    "emr_samples = np.asarray([emr for emr in res_dict.values()])\n",
    "emr_means = np.mean(emr_samples, axis=1)\n",
    "yerr = [np.percentile(emr_samples, 75, axis=1) - emr_means,\n",
    "        emr_means - np.percentile(emr_samples, 25, axis=1)]\n",
    "ax.errorbar(xticks, emr_means, yerr=yerr, marker='.', linestyle='dotted')\n",
    "ax.set_xscale('log')\n",
    "ax.set_xlabel('N')\n",
    "ax.set_ylabel('EMR')\n",
    "fig.savefig('EMR_stats.pdf')\n",
    "fig.show()"
   ]
  },
  {
   "cell_type": "markdown",
   "id": "perfect-toyota",
   "metadata": {
    "Collapsed": "false"
   },
   "source": [
    "# Countries \"phase space\""
   ]
  },
  {
   "cell_type": "code",
   "execution_count": 952,
   "id": "genuine-camel",
   "metadata": {
    "Collapsed": "false"
   },
   "outputs": [],
   "source": [
    "metrics_save_path = os.path.join(processed_data_dir, 'plot_countries_dict.json')\n",
    "countries_dict = {\n",
    "    'Uruguay': {'cc': 'UY', 'region': None, 'cell_sizes': [20000]},\n",
    "    'Paraguay': {'cc': 'PY', 'region': None, 'cell_sizes': [30000, 40000]},\n",
    "    'Cyprus': {'cc': 'CY', 'region': None, 'cell_sizes': [5000, 10000]},\n",
    "    'Luxembourg': {'cc': 'LU', 'region': None, 'cell_sizes': [2000, 5000]},\n",
    "    'Algeria': {'cc': 'DZ', 'region': None, 'cell_sizes': [40000, 60000]},\n",
    "    'Morocco': {'cc': 'MA', 'region': None, 'cell_sizes': [20000, 40000]},\n",
    "    'Finland': {'cc': 'FI', 'region': None, 'cell_sizes': [40000]},\n",
    "    'SG': {'region': None, 'cell_sizes': [1000, 2000]},\n",
    "    'Switzerland': {'cc': 'CH', 'region': None, 'cell_sizes': [10000, 15000]},\n",
    "    'Belgium': {'cc': 'BE', 'region': None, 'cell_sizes': [5000, 10000, 15000]},\n",
    "    'Catalonia': {'cc': 'ES', 'region': 'Catalonia', 'cell_sizes': [5000, 10000, 15000]},\n",
    "    'Balearic islands': {'cc': 'ES', 'region': 'Balearic islands', 'cell_sizes': [5000, 10000]},\n",
    "    'Galicia': {'cc': 'ES', 'region': 'Galicia', 'cell_sizes': [10000]},\n",
    "    'Valencian Community': {'cc': 'ES', 'region': 'Valencian Community', 'cell_sizes': [5000, 10000]},\n",
    "    'Basque country': {'cc': 'ES', 'region': 'Basque country', 'cell_sizes': [5000, 10000]},\n",
    "    'Latvia': {'cc': 'LV', 'region': None, 'cell_sizes': [10000]},\n",
    "    'Estonia': {'cc': 'EE', 'region': None, 'cell_sizes': [10000]},\n",
    "    'Florida': {'cc': 'US', 'region': 'Florida', 'cell_sizes': [20000]},\n",
    "    'Louisiana': {'cc': 'US', 'region': 'Louisiana', 'cell_sizes': [20000]},\n",
    "    'Texas': {'cc': 'US', 'region': 'Texas', 'cell_sizes': [20000]},\n",
    "    'New Mexico': {'cc': 'US', 'region': 'New Mexico', 'cell_sizes': [20000]},\n",
    "    'Arizona': {'cc': 'US', 'region': 'Arizona', 'cell_sizes': [20000]},\n",
    "    'Nevada': {'cc': 'US', 'region': 'Nevada', 'cell_sizes': [20000]},\n",
    "    'California': {'cc': 'US', 'region': 'California', 'cell_sizes': [20000]},\n",
    "    'Quebec': {'cc': 'CA', 'region': 'Quebec', 'cell_sizes': [20000]},\n",
    "    'Malaysia': {'cc': 'MY', 'region': None, 'cell_sizes': [20000]},\n",
    "    'Java': {'cc': 'ID', 'region': 'Java', 'cell_sizes': [40000]},\n",
    "}"
   ]
  },
  {
   "cell_type": "code",
   "execution_count": 71,
   "id": "immediate-texture",
   "metadata": {},
   "outputs": [],
   "source": [
    "with open(metrics_save_path) as f:\n",
    "    data_countries_dict = json.load(f)"
   ]
  },
  {
   "cell_type": "markdown",
   "id": "mathematical-crack",
   "metadata": {},
   "source": [
    "## Metric calc"
   ]
  },
  {
   "cell_type": "code",
   "execution_count": 956,
   "id": "frequent-salvation",
   "metadata": {
    "Collapsed": "false",
    "scrolled": true
   },
   "outputs": [
    {
     "name": "stdout",
     "output_type": "stream",
     "text": [
      "-- Switzerland10\n",
      "ling_de: 0.5335139856737554\n",
      "ling_fr: 0.7168858442097731\n",
      "ling_it: 0.7923374108637123\n",
      "ling_defr: 0.2533416832297027\n",
      "ling_deit: 0.5779943482408351\n",
      "ling_frit: 0.5769592867872799\n",
      "ling_defrit: 0.4809087087309197\n",
      "-- Switzerland15\n",
      "ling_de: 0.5309932756338567\n",
      "ling_fr: 0.719522458290537\n",
      "ling_it: 0.7880340577298576\n",
      "ling_defr: 0.26003746330020744\n",
      "ling_deit: 0.5705605702165526\n",
      "ling_frit: 0.5686404252603808\n",
      "ling_defrit: 0.47286865071543516\n",
      "-- Belgium5\n",
      "ling_fr: 0.4754449569260298\n",
      "ling_nl: 0.29616164406391604\n",
      "ling_frnl: 0.09975570758159294\n",
      "-- Belgium10\n",
      "ling_fr: 0.47628479994439527\n",
      "ling_nl: 0.2955671038801494\n",
      "ling_frnl: 0.0992130194868103\n",
      "-- Belgium15\n",
      "ling_fr: 0.47482112608458477\n",
      "ling_nl: 0.30012648489810456\n",
      "ling_frnl: 0.1004966060348178\n",
      "-- Catalonia5\n",
      "ling_ca: 0.33426859503753986\n",
      "ling_es: 0.1316229795562534\n",
      "ling_caes: 0.06482761778791059\n",
      "-- Catalonia10\n",
      "ling_ca: 0.33742009776397813\n",
      "ling_es: 0.13229210554945292\n",
      "ling_caes: 0.0645263641289462\n",
      "-- Catalonia15\n",
      "ling_ca: 0.32506389570491684\n",
      "ling_es: 0.1303479802749411\n",
      "ling_caes: 0.06285912645569448\n"
     ]
    }
   ],
   "source": [
    "with open(metrics_save_path) as f:\n",
    "    data_countries_dict = json.load(f)\n",
    "for _, cc_dict in countries_dict.items():\n",
    "    region = cc_dict['region']\n",
    "    cc = cc_dict['cc']\n",
    "    area_dict = make_config.area_dict(countries_study_data, cc, region=region)\n",
    "    xy_proj = area_dict['xy_proj']\n",
    "    area_name = area_dict['readable']\n",
    "    plot_langs_dict = make_config.langs_dict(area_dict, user_level_label)\n",
    "    plot_lings_dict = make_config.linguals_dict(area_dict)\n",
    "    plot_multi_mono_dict = make_config.multi_mono_dict(plot_lings_dict)\n",
    "\n",
    "    shapefile_dict = make_config.shapefile_dict(area_dict, cc, region=region)\n",
    "    shapefile_path = os.path.join(\n",
    "        external_data_dir, shapefile_dict['name'], shapefile_dict['name'])\n",
    "    shape_df = geopd.read_file(shapefile_path)\n",
    "    min_poly_area = area_dict.get('min_poly_area')\n",
    "    shape_df = geo.extract_shape(shape_df, shapefile_dict, xy_proj=xy_proj,\n",
    "                                 min_area=min_poly_area)\n",
    "    \n",
    "    for cell_size in cc_dict['cell_sizes']:\n",
    "        case_name = f'{area_name}{cell_size/1000:.0f}'\n",
    "        case_dict = data_countries_dict.get(case_name, {})\n",
    "        case_dict['name'] = case_name\n",
    "        case_dict['cc'] = cc\n",
    "        case_dict['region'] = region\n",
    "        case_dict['cell_size'] = cell_size\n",
    "        print(f'-- {case_name}')\n",
    "        d_matrix = None\n",
    "        _, _, Nx, Ny = geo.create_grid(\n",
    "            shape_df, cell_size, xy_proj=xy_proj, intersect=False)\n",
    "        cell_data_path = cell_data_path_format.format(\n",
    "            'users_cell_data', cc, area_name, cell_size, 'geojson')\n",
    "        cell_plot_df = geopd.read_file(cell_data_path)\n",
    "        cell_plot_df.index = cell_plot_df['cell_id']\n",
    "        real_cell_size = (cell_plot_df.area)**0.5\n",
    "        \n",
    "        grps_dict = plot_langs_dict\n",
    "        cell_plot_df, grps_dict = metrics.calc_by_cell(\n",
    "            cell_plot_df, grps_dict, cell_size=real_cell_size)\n",
    "        case_dict['Hc_langs'], grps_dict = metrics.all_grps_metric(\n",
    "            Hc_dict, cell_plot_df, grps_dict, cell_size=real_cell_size)\n",
    "        case_dict['KL_langs'], grps_dict = metrics.all_grps_metric(\n",
    "            KL_dict, cell_plot_df, grps_dict)\n",
    "    \n",
    "    \n",
    "        N = sum([cell_plot_df[f'count_{grp}'].sum() for grp in grps_dict])\n",
    "        case_dict['EMD_langs'] = 0\n",
    "        for grp, grp_dict in plot_langs_dict.items():\n",
    "            col = grp_dict['count_col']\n",
    "            case_dict[col] = cell_plot_df[col].sum()\n",
    "            N_grp = cell_plot_df[grp_dict['count_col']].sum()\n",
    "            grp_label = grp_dict['grp_label']\n",
    "            emd_value, norm, d_matrix = metrics.earthmover_distance(\n",
    "                cell_plot_df, grp_dict['conc_col'], total_dict['conc_col'], d_matrix=d_matrix)\n",
    "            case_dict[f'EMD_{grp}_vs_tot'] = emd_value/norm\n",
    "            print(f\"{grp}: {case_dict[f'EMD_{grp}_vs_tot']}\")\n",
    "            case_dict['EMD_langs'] += N_grp/N * emd_value/norm\n",
    "        \n",
    "        case_dict['EMD_lang_vs_lang'] = 0\n",
    "        langs_done = []\n",
    "        nr_grps = len(plot_langs_dict)\n",
    "        for grp, grp_dict in plot_langs_dict.items():\n",
    "            N_grp = cell_plot_df[grp_dict['count_col']].sum()\n",
    "            for other_grp, other_grp_dict in plot_langs_dict.items():\n",
    "                if (grp != other_grp) and (other_grp not in langs_done):\n",
    "                    N_other_grp = cell_plot_df[other_grp_dict['count_col']].sum()\n",
    "                    emd_value, norm, d_matrix = metrics.earthmover_distance(\n",
    "                        cell_plot_df, grp_dict['conc_col'], other_grp_dict['conc_col'], d_matrix=d_matrix)\n",
    "                    case_dict['EMD_lang_vs_lang'] += (\n",
    "                        (N_grp+N_other_grp) / (N*(nr_grps-1)) * emd_value/norm)\n",
    "            langs_done.append(grp)\n",
    "\n",
    "        grps_dict = plot_lings_dict\n",
    "        cell_plot_df, grps_dict = metrics.calc_by_cell(\n",
    "            cell_plot_df, grps_dict, cell_size=real_cell_size)\n",
    "        case_dict['avg_EMD_monolings'] = 0\n",
    "        case_dict['EMD_monolings'] = 0\n",
    "        N = sum([cell_plot_df[f'count_{grp}'].sum() for grp in grps_dict if len(grp) == 7])\n",
    "        for grp, grp_dict in grps_dict.items():\n",
    "            col = grp_dict['count_col']\n",
    "            case_dict[col] = cell_plot_df[col].sum()\n",
    "            emd_value, norm, d_matrix = metrics.earthmover_distance(\n",
    "                cell_plot_df, grp_dict['conc_col'], total_dict['conc_col'], d_matrix=d_matrix)\n",
    "            case_dict[f'EMD_{grp}_vs_tot'] = emd_value/norm\n",
    "            print(f\"{grp}: {case_dict[f'EMD_{grp}_vs_tot']}\")\n",
    "            if len(grp) == 7:\n",
    "                case_dict['avg_EMD_monolings'] += 1/len(plot_langs_dict) * emd_value/norm\n",
    "            if len(grp) > 7:\n",
    "                case_dict['avg_EMD_multi'] += 1/len(plot_langs_dict) * emd_value/norm\n",
    "                N_grp = cell_plot_df[grp_dict['count_col']].sum()\n",
    "                case_dict['EMD_monolings'] += N_grp/N * emd_value/norm\n",
    "                \n",
    "        print(case_dict['EMD_monolings'])\n",
    "        grps_dict = plot_multi_mono_dict\n",
    "        count_col = 'multi_count'\n",
    "        cell_plot_df[count_col] = 0\n",
    "        for ling, ling_dict in plot_lings_dict.items():\n",
    "            ling_count_col = ling_dict['count_col']\n",
    "            if (len(ling.split('_')[1]) > 2 and \n",
    "                    ling_count_col in cell_plot_df.columns):\n",
    "                cell_plot_df[count_col] += cell_plot_df[ling_count_col]\n",
    "        cell_plot_df, grps_dict = metrics.calc_by_cell(\n",
    "            cell_plot_df, grps_dict, cell_size=real_cell_size)\n",
    "        prop_null = (cell_plot_df.loc[cell_plot_df[count_col] == 0].shape[0] \n",
    "                     / cell_plot_df.shape[0])\n",
    "        print(f\"The ratio of cells with a null multilinguals' count is {prop_null}\")\n",
    "        for grp, grp_dict in grps_dict.items():\n",
    "            count_col = grp_dict['count_col']\n",
    "            conc_col = grp_dict['conc_col']\n",
    "            n_samples = cell_plot_df[count_col].sum()\n",
    "            ks_score, p_value = metrics.ks_test_2d(cell_plot_df, conc_col, \n",
    "                                                   'total_conc', Nx, Ny, n_samples)\n",
    "            grp_dict['KS'] = {'score': ks_score, 'p_value': p_value}\n",
    "            grps_dict[grp] = grp_dict\n",
    "\n",
    "        case_dict['Hp_mono_multi'] = metrics.all_cells_metric(Hp_dict, cell_plot_df)\n",
    "        case_dict['Hc_mono_multi'], grps_dict = metrics.all_grps_metric(\n",
    "            Hc_dict, cell_plot_df, grps_dict, cell_size=real_cell_size)\n",
    "        case_dict['KL_mono_multi'], grps_dict = metrics.all_grps_metric(\n",
    "            KL_dict, cell_plot_df, grps_dict)\n",
    "        \n",
    "        emd_value, norm, d_matrix = metrics.earthmover_distance(\n",
    "            cell_plot_df, grps_dict['multi']['conc_col'], total_dict['conc_col'], d_matrix=d_matrix)\n",
    "        case_dict['EMD_multi'] = emd_value / norm\n",
    "            \n",
    "        case_dict['KS_multi'] = grps_dict['multi']['KS']['score']\n",
    "        data_countries_dict[case_name] = case_dict"
   ]
  },
  {
   "cell_type": "code",
   "execution_count": 577,
   "id": "demographic-jones",
   "metadata": {
    "Collapsed": "false"
   },
   "outputs": [],
   "source": [
    "metrics_save_path = os.path.join(processed_data_dir, 'plot_countries_dict.json')\n",
    "json_file = json.dumps(data_countries_dict)\n",
    "with open(metrics_save_path, 'w') as f:\n",
    "    f.write(json_file)"
   ]
  },
  {
   "cell_type": "code",
   "execution_count": null,
   "id": "statewide-choice",
   "metadata": {},
   "outputs": [],
   "source": [
    "with open(metrics_save_path) as f:\n",
    "    data_countries_dict = json.load(f)"
   ]
  },
  {
   "cell_type": "code",
   "execution_count": 581,
   "id": "determined-intervention",
   "metadata": {},
   "outputs": [],
   "source": [
    "plot_countries_dict = {\n",
    "    case_name: case_dict for case_name, case_dict in data_countries_dict.items()\n",
    "    if case_name in cases_to_include}\n",
    "cases_to_include = [\n",
    "    'Galicia10', 'Basque country5', 'Valencian Community10', \n",
    "    'Switzerland10', 'Belgium10', 'Catalonia10', 'Balearic islands5',\n",
    "    'Malaysia20', 'Java40', 'Quebec20', 'Finland40', 'Estonia10', 'Cyprus5',\n",
    "    'Latvia10', 'Luxembourg5', 'Paraguay40']"
   ]
  },
  {
   "cell_type": "markdown",
   "id": "committed-federal",
   "metadata": {},
   "source": [
    "## Plot"
   ]
  },
  {
   "cell_type": "code",
   "execution_count": 856,
   "id": "sensitive-postcard",
   "metadata": {},
   "outputs": [],
   "source": [
    "case_dict = plot_countries_dict['Malaysia20']\n",
    "region = case_dict['region']\n",
    "cc = case_dict['cc']\n",
    "area_dict = make_config.area_dict(countries_study_data, cc, region=region)\n",
    "xy_proj = area_dict['xy_proj']\n",
    "area_name = area_dict['readable']\n",
    "plot_langs_dict = make_config.langs_dict(area_dict, user_level_label)\n",
    "plot_lings_dict = make_config.linguals_dict(area_dict)\n",
    "cell_data_path = cell_data_path_format.format(\n",
    "        'users_cell_data', cc, area_name, case_dict['cell_size'], 'geojson')\n",
    "cell_plot_df = geopd.read_file(cell_data_path)\n",
    "cell_plot_df, plot_lings_dict = metrics.calc_by_cell(cell_plot_df, plot_lings_dict)\n",
    "\n",
    "shapefile_dict = make_config.shapefile_dict(area_dict, cc, region=region)\n",
    "shapefile_path = os.path.join(\n",
    "    external_data_dir, shapefile_dict['name'], shapefile_dict['name'])\n",
    "shape_df = geopd.read_file(shapefile_path)\n",
    "shape_df = geo.extract_shape(shape_df, shapefile_dict, xy_proj=xy_proj)\n",
    "\n",
    "_, _, Nx, Ny = geo.create_grid(\n",
    "            shape_df, case_dict['cell_size'], xy_proj=xy_proj, intersect=False)\n",
    "\n",
    "total_count = cell_plot_df['total_count'].sort_values(ascending=False)\n",
    "pop_cumsum = total_count.cumsum()\n",
    "pop_cumprop = pop_cumsum / pop_cumsum.iloc[-1]\n",
    "min_pop = 1 / (total_count / pop_cumsum.iloc[-1]).iloc[np.searchsorted(pop_cumprop, 0.90)]\n",
    "x_array = []\n",
    "y_array = []\n",
    "total_count = sum([case_dict[f'count_{grp}'] for grp in plot_lings_dict])"
   ]
  },
  {
   "cell_type": "code",
   "execution_count": 857,
   "id": "committed-sword",
   "metadata": {
    "scrolled": true,
    "tags": []
   },
   "outputs": [],
   "source": [
    "grp = 'ling_mszh'\n",
    "cum_distrib = cell_plot_df['conc_'+grp].cumsum().values\n",
    "N_samples = int(cell_plot_df['count_'+grp].sum())\n",
    "d_matrix = None\n",
    "norm = None\n",
    "nr_iter = 50\n",
    "emrs = np.zeros(nr_iter)\n",
    "for i in range(nr_iter):\n",
    "    draw = np.random.random(N_samples)\n",
    "    assignment = np.searchsorted(cum_distrib, draw)\n",
    "    i_cells, counts = np.unique(assignment, return_counts=True)\n",
    "    cell_plot_df['sample_conc'] = 0\n",
    "    cell_plot_df['sample_conc'].iloc[i_cells] = counts / N_samples\n",
    "    emd_value, norm, d_matrix = metrics.earthmover_distance(\n",
    "        cell_plot_df, 'sample_conc', 'total_conc', d_matrix=d_matrix, norm=norm)\n",
    "    emrs[i] = emd_value / norm"
   ]
  },
  {
   "cell_type": "code",
   "execution_count": 886,
   "id": "damaged-plymouth",
   "metadata": {
    "tags": []
   },
   "outputs": [
    {
     "data": {
      "image/png": "[encoded data removed]",
      "text/plain": [
       "<Figure size 288x288 with 1 Axes>"
      ]
     },
     "metadata": {
      "needs_background": "light"
     },
     "output_type": "display_data"
    }
   ],
   "source": [
    "for case_dict in plot_countries_dict.values():\n",
    "    d_matrix = None\n",
    "    norm = None\n",
    "    include_reg = True\n",
    "    region = case_dict['region']\n",
    "    cc = case_dict['cc']\n",
    "    area_dict = make_config.area_dict(countries_study_data, cc, region=region)\n",
    "    xy_proj = area_dict['xy_proj']\n",
    "    area_name = area_dict['readable']\n",
    "    plot_langs_dict = make_config.langs_dict(area_dict, user_level_label)\n",
    "    plot_lings_dict = make_config.linguals_dict(area_dict)\n",
    "    cell_data_path = cell_data_path_format.format(\n",
    "            'users_cell_data', cc, area_name, case_dict['cell_size'], 'geojson')\n",
    "    cell_plot_df = geopd.read_file(cell_data_path)\n",
    "    cell_plot_df, plot_lings_dict = metrics.calc_by_cell(cell_plot_df, plot_lings_dict)\n",
    "\n",
    "    total_count = cell_plot_df['total_count'].sort_values(ascending=False)\n",
    "    pop_cumsum = total_count.cumsum()\n",
    "    pop_cumprop = pop_cumsum / pop_cumsum.iloc[-1]\n",
    "    loc_percentile = np.searchsorted(pop_cumprop, 0.90)\n",
    "    min_pop = int(1 / (total_count / pop_cumsum.iloc[-1]).iloc[loc_percentile])\n",
    "    \n",
    "    fig, ax = plt.subplots(1, figsize=(4,4))\n",
    "    ax.bar(np.array(range(len(total_count))), total_count)\n",
    "    ax.vlines(loc_percentile, 0 , total_count.max(), colors='r', ls='dashed')\n",
    "    ax.set_title(area_name)\n",
    "    fig.show()\n",
    "    break"
   ]
  },
  {
   "cell_type": "code",
   "execution_count": 923,
   "id": "horizontal-mediterranean",
   "metadata": {
    "tags": []
   },
   "outputs": [
    {
     "name": "stderr",
     "output_type": "stream",
     "text": [
      "/home/thomaslouf/Documents/code/multiling-twitter/.cenv/lib/python3.7/site-packages/pandas/core/indexing.py:1637: SettingWithCopyWarning:\n",
      "\n",
      "\n",
      "A value is trying to be set on a copy of a slice from a DataFrame\n",
      "\n",
      "See the caveats in the documentation: https://pandas.pydata.org/pandas-docs/stable/user_guide/indexing.html#returning-a-view-versus-a-copy\n",
      "\n"
     ]
    },
    {
     "name": "stdout",
     "output_type": "stream",
     "text": [
      "ling_defr Switzerland 287 1005 0.2533416832297027 0.26568227371901476 0.07434416702672553\n",
      "ling_deit Switzerland 131 1005 0.5779943482408351 0.5960957694883815 0.03865400741315096\n",
      "ling_frit Switzerland 142 1005 0.5769592867872799 0.5842020936554099 0.06532036776039006\n",
      "Switzerland excluded because of ling_defrit\n"
     ]
    }
   ],
   "source": [
    "hard_min_pop = 50\n",
    "nr_emr_iter = 50\n",
    "# countries = []\n",
    "# y_EMD_patt = re.compile('EMD_[a-z]{2}_vs_tot')\n",
    "# xaxis_metric_label = r'$\\langle \\textrm{EMR}_{L} \\rangle$'\n",
    "# x_EMD_patt = re.compile('EMD_ling_[a-z]{2}_vs_tot')\n",
    "xaxis_metric_label = r'$\\textrm{EMR}_{\\textrm{mono}}$'\n",
    "# y_EMD_patt = re.compile('EMD_ling_[a-z]{3,}_vs_tot')\n",
    "yaxis_metric_label = r'$\\textrm{EMR}_{\\textrm{multi}}$'\n",
    "# y_EMD_patt = re.compile('EMD_multi')\n",
    "# yaxis_metric_label = r'$\\textrm{EMR}_{\\textrm{multi}}$'\n",
    "# xaxis_metric = []\n",
    "# yaxis_metric = []\n",
    "for case_dict in plot_countries_dict.values():\n",
    "    d_matrix = None\n",
    "    norm = None\n",
    "    include_reg = True\n",
    "    region = case_dict['region']\n",
    "    cc = case_dict['cc']\n",
    "    area_dict = make_config.area_dict(countries_study_data, cc, region=region)\n",
    "    xy_proj = area_dict['xy_proj']\n",
    "    area_name = area_dict['readable']\n",
    "    plot_langs_dict = make_config.langs_dict(area_dict, user_level_label)\n",
    "    plot_lings_dict = make_config.linguals_dict(area_dict)\n",
    "    cell_data_path = cell_data_path_format.format(\n",
    "            'users_cell_data', cc, area_name, case_dict['cell_size'], 'geojson')\n",
    "    cell_plot_df = geopd.read_file(cell_data_path)\n",
    "    cell_plot_df, plot_lings_dict = metrics.calc_by_cell(cell_plot_df, plot_lings_dict)\n",
    "\n",
    "    total_count = cell_plot_df['total_count'].sort_values(ascending=False)\n",
    "    pop_cumsum = total_count.cumsum()\n",
    "    pop_cumprop = pop_cumsum / pop_cumsum.iloc[-1]\n",
    "    loc_percentile = np.searchsorted(pop_cumprop, 0.90)\n",
    "    min_pop = int(1 / (total_count.iloc[loc_percentile] / pop_cumsum.iloc[-1]))\n",
    "    x_array = []\n",
    "    y_array = []\n",
    "    total_count = sum([case_dict[f'count_{grp}'] for grp in plot_lings_dict])\n",
    "    for grp in plot_lings_dict.keys():\n",
    "        grp_count = int(case_dict[f'count_{grp}'])\n",
    "        test = grp_count > min_pop\n",
    "        if grp_count > hard_min_pop and (not test):\n",
    "            # boostrap emr calc\n",
    "            cum_distrib = cell_plot_df['conc_'+grp].cumsum().values\n",
    "            draws = np.random.random((nr_emr_iter, grp_count))\n",
    "            assignments = np.searchsorted(cum_distrib, draws)\n",
    "            emrs = np.zeros(nr_emr_iter)\n",
    "            for i in range(nr_emr_iter):\n",
    "                i_cells, counts = np.unique(assignments[i], return_counts=True)\n",
    "                cell_plot_df['sample_conc'] = 0\n",
    "                cell_plot_df['sample_conc'].iloc[i_cells] = counts / grp_count\n",
    "                emd_value, norm, d_matrix = metrics.earthmover_distance(\n",
    "                    cell_plot_df, 'sample_conc', 'total_conc', d_matrix=d_matrix, norm=norm)\n",
    "                emrs[i] = emd_value / norm\n",
    "            mean_emr = emrs.mean()\n",
    "            rel_std = emrs.std() / mean_emr\n",
    "#             case_dict[f'EMD_{grp}_vs_tot'] = mean_emr\n",
    "            test = rel_std < 0.2\n",
    "            print(grp, area_name, grp_count, min_pop, case_dict[f'EMD_{grp}_vs_tot'], mean_emr, rel_std)\n",
    "        if test:\n",
    "            if len(grp) > 7:\n",
    "                y_array.append(case_dict[f'EMD_{grp}_vs_tot'])\n",
    "            else:\n",
    "                x_array.append(case_dict[f'EMD_{grp}_vs_tot'])\n",
    "        else:\n",
    "            print(f'{area_name} excluded because of {grp}')\n",
    "#             include_reg = False\n",
    "    if include_reg:\n",
    "        countries.append(case_dict['name'])\n",
    "        xaxis_metric.append(np.array(x_array))\n",
    "        yaxis_metric.append(np.array(y_array))\n",
    "# # xaxis_metric = [np.array([case_dict[key]\n",
    "# #                           for key in case_dict.keys()\n",
    "# #                           if re.match(x_EMD_patt, key)])\n",
    "# #                 for case_dict in plot_countries_dict.values()]\n",
    "# # yaxis_metric = [np.array([case_dict[key]\n",
    "# #                           for key in case_dict.keys()\n",
    "# #                           if re.match(y_EMD_patt, key)])\n",
    "# #                 for case_dict in plot_countries_dict.values()]"
   ]
  },
  {
   "cell_type": "code",
   "execution_count": 669,
   "id": "impossible-vertical",
   "metadata": {},
   "outputs": [
    {
     "data": {
      "image/png": "[encoded data removed]",
      "text/plain": [
       "<Figure size 288x576 with 1 Axes>"
      ]
     },
     "metadata": {
      "needs_background": "light"
     },
     "output_type": "display_data"
    }
   ],
   "source": [
    "pt_labels = [re.match(r'([A-Za-z\\s]+)([0-9]+)', c).groups() for c in countries]\n",
    "pt_labels = [f'{l[0]} ({l[1]})' for l in pt_labels]\n",
    "fig_save_path = os.path.join(fig_dir, 'all',\n",
    "                         'EMR_all_multilings_vs_avg_langs+err.pdf')\n",
    "fig, ax = helpers_viz.errorbar_labelled(\n",
    "    xaxis_metric, yaxis_metric, pt_labels, xlabel=xaxis_metric_label,\n",
    "    ylabel=yaxis_metric_label, figsize=(4,8), save_path=None, pts_s=10,\n",
    "    show_xerr=True, show_yerr=False,\n",
    "    **{'scatter': {'s': 8**2, 'marker': '+'},\n",
    "       'adj_text': {'expand_text': (1.05, 1.2), 'expand_points': (1.2, 1.5),\n",
    "                    'only_move': {'points': 'xy', 'text': 'xy', 'objects': 'xy'}}})\n",
    "ax.yaxis.label.set_size(plt.rcParams['font.size'] + 3)\n",
    "ax.xaxis.label.set_size(plt.rcParams['font.size'] + 3)\n",
    "ax.autoscale(False)\n",
    "guide_c = np.array([50]*3) / 255\n",
    "_ = ax.plot([0, 1], [0, 1], ls='--', c=guide_c, lw=0.5, zorder=1)\n",
    "fig.savefig(fig_save_path)"
   ]
  },
  {
   "cell_type": "code",
   "execution_count": 688,
   "id": "seeing-congress",
   "metadata": {},
   "outputs": [
    {
     "data": {
      "image/png": "[encoded data removed]",
      "text/plain": [
       "<Figure size 288x288 with 1 Axes>"
      ]
     },
     "metadata": {
      "needs_background": "light"
     },
     "output_type": "display_data"
    }
   ],
   "source": [
    "pt_labels = [re.match(r'([A-Za-z\\s]+)([0-9]+)', c).groups() for c in countries]\n",
    "pt_labels = [f'{l[0]} ({l[1]})' for l in pt_labels]\n",
    "pts_s = 8\n",
    "fig_save_path = os.path.join(fig_dir, 'all',\n",
    "                         'EMR_all_multilings_vs_avg_langs+err.pdf')\n",
    "fig, ax = helpers_viz.cat_errorbar_labelled(\n",
    "    xaxis_metric, pt_labels, xlabel='regions with the least to most\\nsegregated monolingual communities',\n",
    "    ylabel=xaxis_metric_label, figsize=(4,4), save_path=None, pts_s=pts_s,\n",
    "    show_yerr=True,\n",
    "    **{'scatter': {'s': (pts_s-2)**2, 'marker': '+'},\n",
    "       'adj_text': {'expand_text': (1.05, 1.2), 'expand_points': (1.2, 1.5),\n",
    "                    'only_move': {'points': 'xy', 'text': 'xy', 'objects': 'xy'}}})\n",
    "ax.yaxis.label.set_size(plt.rcParams['font.size'] + 3)\n",
    "ax.xaxis.label.set_size(plt.rcParams['font.size'] + 3)\n",
    "fig.show()"
   ]
  },
  {
   "cell_type": "markdown",
   "id": "russian-denmark",
   "metadata": {},
   "source": [
    "## Maps + EMD "
   ]
  },
  {
   "cell_type": "code",
   "execution_count": 694,
   "id": "identical-memorabilia",
   "metadata": {},
   "outputs": [],
   "source": [
    "import matplotlib.colors as mcolors"
   ]
  },
  {
   "cell_type": "code",
   "execution_count": 695,
   "id": "valuable-football",
   "metadata": {},
   "outputs": [],
   "source": [
    "plt.rc('axes', labelsize=small_size, titlesize=small_size)"
   ]
  },
  {
   "cell_type": "code",
   "execution_count": 696,
   "id": "outstanding-parade",
   "metadata": {},
   "outputs": [],
   "source": [
    "cc_region = {'BE': {'shpfile_name': 'Apn_AdRe.shp', 'extract_shape_kwargs': dict(min_area=10**4, simplify_tol=50)}, \n",
    "             'ES': {'region': 'Catalonia'}}\n",
    "cell_size = 10000\n",
    "for cc, cc_dict in cc_region.items():\n",
    "    region = cc_dict.get('region')\n",
    "    area_dict = make_config.area_dict(countries_study_data, cc, region=region)\n",
    "    xy_proj = area_dict['xy_proj']\n",
    "    cc_dict['xy_proj'] = xy_proj\n",
    "    cc_dict['local_langs'] = area_dict['local_langs']\n",
    "    area_name = area_dict['readable']\n",
    "    plot_langs_dict = make_config.langs_dict(area_dict, user_level_label)\n",
    "    plot_lings_dict = make_config.linguals_dict(area_dict)\n",
    "    shapefile_dict = make_config.shapefile_dict(area_dict, cc, region=region)\n",
    "    \n",
    "    shpfile_name = cc_dict.get('shpfile_name', shapefile_dict['name'])\n",
    "    shapefile_path = os.path.join(\n",
    "        external_data_dir, shpfile_name, shpfile_name)\n",
    "    shape_df = geopd.read_file(shapefile_path)\n",
    "    shape_df = geo.extract_shape(shape_df, shapefile_dict, xy_proj=xy_proj, \n",
    "                                 **cc_dict.get('extract_shape_kwargs', {}))\n",
    "    cc_dict['shape_df'] = shape_df\n",
    "\n",
    "    cell_data_path = cell_data_path_format.format(\n",
    "        'users_cell_data', cc, area_name, cell_size, 'geojson')\n",
    "    cell_plot_df = geopd.read_file(cell_data_path)\n",
    "    cell_plot_df.index = cell_plot_df['cell_id']\n",
    "    cell_plot_df, plot_langs_dict = metrics.calc_by_cell(\n",
    "        cell_plot_df, plot_langs_dict, cell_size=cell_size)\n",
    "    cell_plot_df, plot_lings_dict = metrics.calc_by_cell(\n",
    "        cell_plot_df, plot_lings_dict, cell_size=cell_size)\n",
    "    cell_plot_df = cell_plot_df.loc[cell_plot_df['local_count'] > 10]\n",
    "    cc_dict['cell_plot_df'] = cell_plot_df\n",
    "    cc_dict['plot_langs_dict'] = plot_langs_dict\n",
    "    plot_lings_dict[list(plot_lings_dict.keys())[-1]]['grp_label'] = 'bilinguals'\n",
    "    cc_dict['plot_lings_dict'] = plot_lings_dict"
   ]
  },
  {
   "cell_type": "code",
   "execution_count": 918,
   "id": "athletic-thinking",
   "metadata": {},
   "outputs": [],
   "source": [
    "xaxis_metric_label = r'$\\textrm{EMR}_{\\textrm{mono}}$'\n",
    "yaxis_metric_label = r'$\\textrm{EMR}_{\\textrm{multi}}$'"
   ]
  },
  {
   "cell_type": "code",
   "execution_count": 935,
   "id": "focal-nirvana",
   "metadata": {},
   "outputs": [
    {
     "name": "stderr",
     "output_type": "stream",
     "text": [
      "/home/thomaslouf/Documents/code/multiling-twitter/.cenv/lib/python3.7/site-packages/matplotlib/transforms.py:623: RuntimeWarning:\n",
      "\n",
      "invalid value encountered in double_scalars\n",
      "\n",
      "/home/thomaslouf/Documents/code/multiling-twitter/.cenv/lib/python3.7/site-packages/matplotlib/transforms.py:624: RuntimeWarning:\n",
      "\n",
      "invalid value encountered in double_scalars\n",
      "\n"
     ]
    },
    {
     "data": {
      "image/png": "[encoded data removed]",
      "text/plain": [
       "<Figure size 504.567x345.827 with 14 Axes>"
      ]
     },
     "metadata": {
      "needs_background": "light"
     },
     "output_type": "display_data"
    }
   ],
   "source": [
    "import copy\n",
    "import re\n",
    "from itertools import chain\n",
    "fig = plt.figure(figsize=(17.8/2.54, 12.2/2.54), constrained_layout=False)\n",
    "tight_layout = False\n",
    "\n",
    "plot_kwargs = {'edgecolor': (0.9, 0.9, 0.9), 'linewidths': 0.1,\n",
    "               'cmap': 'plasma', 'rasterized': True}\n",
    "maps_kwargs = {\n",
    "    **dict(\n",
    "        show=False, tight_layout=tight_layout, cbar_lw=0, vmin=0, vmax=1, \n",
    "        borderwidth=0.5),\n",
    "    **{'plot': plot_kwargs, 'annotate': annotate_kwargs}}\n",
    "biling_maps_kwargs = copy.deepcopy(maps_kwargs)\n",
    "biling_maps_kwargs.pop('vmax')\n",
    "\n",
    "shape_list = [cc_dict['shape_df'] for cc_dict in cc_region.values()]\n",
    "width_ratios = grid_viz.get_width_ratios(shape_list, ratio_lgd=0.4)\n",
    "gs = fig.add_gridspec(\n",
    "    1, 2, width_ratios=[width_ratios[0]+width_ratios[1], width_ratios[2]],\n",
    "    left=0, right=1, bottom=0.02, top=0.96, wspace=0.27)\n",
    "# gs_maps = gs[0].subgridspec(3, 2, width_ratios=width_ratios[:-1], hspace=0.3, wspace=0.3)\n",
    "gs_maps = gs[0].subgridspec(3, 2, width_ratios=width_ratios[:-1], hspace=0.3, wspace=0.2)\n",
    "gs_emrs = gs[1].subgridspec(2, 1, hspace=0.1)\n",
    "fig.set_constrained_layout_pads(w_pad=0, hpad=0, wspace=0.1, hspace=0.1)\n",
    "# Always start by creating all axes, and then and only then plot in them!\n",
    "axes = []\n",
    "for g in chain(gs_maps, gs_emrs):\n",
    "    axes.append(fig.add_subplot(g))\n",
    "\n",
    "cc = 'BE'\n",
    "cell_plot_df = cc_region[cc]['cell_plot_df']\n",
    "shape_df = cc_region[cc]['shape_df']\n",
    "xy_proj = cc_region[cc]['xy_proj']\n",
    "plot_langs_dict = cc_region[cc]['plot_langs_dict']\n",
    "plot_lings_dict = cc_region[cc]['plot_lings_dict']\n",
    "for i, grp_dict in enumerate(plot_lings_dict.values()):\n",
    "    i_ax = 2*i\n",
    "    cbar_label = f\"{prop_dict['readable']} of {grp_dict['grp_label']}\"\n",
    "    if i == 2:\n",
    "        kwargs = {**biling_maps_kwargs, **{'cbar_ticks': [0, 0.15]}}\n",
    "    else:\n",
    "        kwargs = maps_kwargs\n",
    "    fig, axes[i_ax] = grid_viz.plot_grid(\n",
    "        cell_plot_df, shape_df, ax=axes[i_ax], fig=fig, xy_proj=xy_proj, metric_col=grp_dict['prop_col'],\n",
    "        cbar_label=cbar_label, **kwargs)\n",
    "    _ = axes[i_ax].annotate(annotations[i_ax], (0, 0.9),\n",
    "                            xycoords='axes fraction', **annotate_kwargs)\n",
    "\n",
    "\n",
    "cc = 'ES'\n",
    "cell_plot_df = cc_region[cc]['cell_plot_df']\n",
    "shape_df = cc_region[cc]['shape_df']\n",
    "xy_proj = cc_region[cc]['xy_proj']\n",
    "plot_langs_dict = cc_region[cc]['plot_langs_dict']\n",
    "plot_lings_dict = cc_region[cc]['plot_lings_dict']\n",
    "for i, grp_dict in enumerate(plot_lings_dict.values()):\n",
    "    i_ax = 2*i+1\n",
    "    cbar_label = f\"{prop_dict['readable']} of {grp_dict['grp_label']}\"\n",
    "    if i == 2:\n",
    "        kwargs = biling_maps_kwargs\n",
    "    else:\n",
    "        kwargs = maps_kwargs\n",
    "    fig, axes[i_ax] = grid_viz.plot_grid(\n",
    "        cell_plot_df, shape_df, ax=axes[i_ax], fig=fig, xy_proj=xy_proj, metric_col=grp_dict['prop_col'],\n",
    "        cbar_label=cbar_label, **maps_kwargs)\n",
    "    _ = axes[i_ax].annotate(annotations[i_ax], (0, 0.9),\n",
    "                            xycoords='axes fraction', **annotate_kwargs)\n",
    "\n",
    "\n",
    "pt_labels = [re.match(r'([A-Za-z\\s]+)([0-9]+)', c).groups() for c in countries]\n",
    "pt_labels = ['\\n'.join(l[0].split(' ')) for l in pt_labels]\n",
    "pts_s = 5\n",
    "xlabels = [\n",
    "    None\n",
    "    for grp in ['mono', 'multi']]\n",
    "gen = zip(axes[6:8], [xaxis_metric, yaxis_metric], xlabels, \n",
    "          [xaxis_metric_label, yaxis_metric_label], annotations[6:8])\n",
    "for ax, y_plot, xlabel, ylabel, annot in gen:\n",
    "    fig, ax = helpers_viz.cat_errorbar_labelled(\n",
    "        y_plot, pt_labels, xlabel=xlabel, ylabel=ylabel, pts_s=pts_s,\n",
    "        show_yerr=True, fig=fig, ax=ax, tight_layout=False,\n",
    "        **{'scatter': {'s': (pts_s-2)**2, 'marker': 'o'},\n",
    "           'adj_text': {'expand_text': (1.1, 1.2), 'expand_points': (1.2, 2),\n",
    "                        'expand_objects': (2, 2), 'force_objects': (2, 3),\n",
    "                        'only_move': {'points': 'y', 'text': 'xy', 'objects': 'y'}}})\n",
    "    ax.yaxis.label.set_size(plt.rcParams['font.size'] + 3)\n",
    "    _ = ax.annotate(annot, (-0.2, 0.96), #0.15\n",
    "                    xycoords='axes fraction', **annotate_kwargs)\n",
    "axes[-1].set_title('Least to most segregated regions')\n",
    "axes[-1].title.set_size(plt.rcParams['font.size']+3)\n",
    "fig_save_path = os.path.join(fig_dir, 'all', 'BE_CAT_maps_EMRs_ranked.pdf')\n",
    "fig.savefig(fig_save_path, dpi=400)\n",
    "fig.show()"
   ]
  },
  {
   "cell_type": "markdown",
   "id": "dynamic-candidate",
   "metadata": {},
   "source": [
    "# Data table "
   ]
  },
  {
   "cell_type": "code",
   "execution_count": 867,
   "id": "dependent-parish",
   "metadata": {},
   "outputs": [],
   "source": [
    "import itertools\n",
    "list_EMR = []\n",
    "list_counts = []\n",
    "list_grps = []\n",
    "list_regions = []\n",
    "list_cell_sizes = []\n",
    "for _, cc_dict in sorted(plot_countries_dict.items()):\n",
    "    region = cc_dict['region']\n",
    "    cc = cc_dict['cc']\n",
    "    area_dict = make_config.area_dict(countries_study_data, cc, region=region)\n",
    "    xy_proj = area_dict['xy_proj']\n",
    "    area_name = area_dict['readable']\n",
    "    plot_langs_dict = make_config.langs_dict(area_dict, user_level_label)\n",
    "    plot_lings_dict = make_config.linguals_dict(area_dict)\n",
    "    for grp, grp_dict in itertools.chain(plot_langs_dict.items(),\n",
    "                                         plot_lings_dict.items()):\n",
    "        list_grps.append(grp_dict['grp_label'])\n",
    "        list_counts.append(cc_dict[f\"count_{grp}\"])\n",
    "        list_EMR.append(cc_dict[f\"EMD_{grp}_vs_tot\"])\n",
    "        list_regions.append(area_name)\n",
    "        list_cell_sizes.append(int(cc_dict['cell_size']/1000))\n",
    "summary_table = pd.DataFrame({'Count': list_counts, 'EMR': list_EMR},\n",
    "                             index=[list_regions, list_cell_sizes, list_grps])\n",
    "summary_table = (summary_table.rename_axis(index=['Region', 'Cell size (in km)', 'Group'])\n",
    "                              .assign(EMR = lambda df: np.round(df['EMR'], 3))\n",
    "                              .astype({'Count': int}))"
   ]
  },
  {
   "cell_type": "code",
   "execution_count": 868,
   "id": "monetary-stocks",
   "metadata": {},
   "outputs": [],
   "source": [
    "summary_table_tex = summary_table.reset_index()\n",
    "mask = summary_table_tex['Region'].duplicated()\n",
    "summary_table_tex.loc[mask, ['Region', 'Cell size (in km)']] = None\n",
    "summary_table_tex.to_csv(os.path.join(processed_data_dir, 'summary_table_tex.csv'), index=False)"
   ]
  },
  {
   "cell_type": "code",
   "execution_count": 186,
   "id": "sound-casino",
   "metadata": {},
   "outputs": [],
   "source": [
    "countries_dict = {\n",
    "    'Paraguay': {'cc': 'PY', 'region': None, 'cell_sizes': [40000]},\n",
    "    'Switzerland': {'cc': 'CH', 'region': None, 'cell_sizes': [10000]},\n",
    "    'Belgium': {'cc': 'BE', 'region': None, 'cell_sizes': [10000]},\n",
    "    'Catalonia': {'cc': 'ES', 'region': 'Catalonia', 'cell_sizes': [10000]},\n",
    "    'Balearic islands': {'cc': 'ES', 'region': 'Balearic islands', 'cell_sizes': [5000]},\n",
    "    'Galicia': {'cc': 'ES', 'region': 'Galicia', 'cell_sizes': [10000]},\n",
    "    'Valencian Community': {'cc': 'ES', 'region': 'Valencian Community', 'cell_sizes': [10000]},\n",
    "    'Basque country': {'cc': 'ES', 'region': 'Basque country', 'cell_sizes': [5000]},\n",
    "    'Latvia': {'cc': 'LV', 'region': None, 'cell_sizes': [10000]},\n",
    "    'Quebec': {'cc': 'CA', 'region': 'Quebec', 'cell_sizes': [20000]},\n",
    "    'Malaysia': {'cc': 'MY', 'region': None, 'cell_sizes': [20000]},\n",
    "    'Java': {'cc': 'ID', 'region': 'Java', 'cell_sizes': [40000]},\n",
    "    'Luxembourg': {'cc': 'LU', 'region': None, 'cell_sizes': [5000]},\n",
    "}\n",
    "lang_EMR_dict = {}\n",
    "for _, cc_dict in sorted(countries_dict.items()):\n",
    "    region = cc_dict['region']\n",
    "    cc = cc_dict['cc']\n",
    "    area_dict = make_config.area_dict(countries_study_data, cc, region=region)\n",
    "    xy_proj = area_dict['xy_proj']\n",
    "    area_name = area_dict['readable']\n",
    "    plot_langs_dict = make_config.langs_dict(area_dict, user_level_label)\n",
    "    plot_lings_dict = make_config.linguals_dict(area_dict)\n",
    "    lang_EMR_dict[area_name] = {}\n",
    "    for l, l_dict in plot_langs_dict.items():\n",
    "        name = f\"{area_name}{cc_dict['cell_sizes'][0]/1000:.0f}\"\n",
    "        EMR_name = f\"EMD_{l}_vs_tot\"\n",
    "        lang = l_dict['readable']\n",
    "        lang_EMR_dict[area_name][lang] = plot_countries_dict[name][EMR_name]"
   ]
  },
  {
   "cell_type": "code",
   "execution_count": 226,
   "id": "drawn-support",
   "metadata": {},
   "outputs": [],
   "source": [
    "lang_EMR_df = pd.DataFrame(lang_EMR_dict).T.stack().rename('EMR').rename_axis(index=['Region', 'Language'])\n",
    "lang_EMR_df.to_csv('EMR_langs.csv')"
   ]
  },
  {
   "cell_type": "code",
   "execution_count": 227,
   "id": "sought-joyce",
   "metadata": {},
   "outputs": [],
   "source": [
    "lang_EMR_tex = lang_EMR_df.reset_index()\n",
    "mask = lang_EMR_tex['Region'].duplicated()\n",
    "lang_EMR_tex.loc[mask, 'Region'] = ''\n",
    "lang_EMR_tex.to_csv('EMR_langs_tex.csv', index=False)"
   ]
  },
  {
   "cell_type": "markdown",
   "id": "passive-somewhere",
   "metadata": {
    "Collapsed": "false"
   },
   "source": [
    "# Cell size invariance"
   ]
  },
  {
   "cell_type": "code",
   "execution_count": 974,
   "id": "insured-pound",
   "metadata": {},
   "outputs": [
    {
     "data": {
      "image/png": "[encoded data removed]",
      "text/plain": [
       "<Figure size 246.614x396.85 with 2 Axes>"
      ]
     },
     "metadata": {
      "needs_background": "light"
     },
     "output_type": "display_data"
    }
   ],
   "source": [
    "with open(metrics_save_path) as f:\n",
    "    data_countries_dict = json.load(f)\n",
    "\n",
    "cmap = plt.rcParams['axes.prop_cycle'].by_key()['color']\n",
    "fig, axes = plt.subplots(2, 1, figsize=(8.7/2.54, 14/2.54))\n",
    "xticks = np.array([1, 2, 3])\n",
    "EMD_names = ('avg_emd_monolings', 'EMD_multi')\n",
    "ylabels = (r'$\\textrm{EMR}_{\\textrm{mono}}$', \n",
    "           r'$\\textrm{EMR}_{\\textrm{multi}}$')\n",
    "patts = [re.compile('EMD_ling_[a-z]{2}_vs_tot'),\n",
    "         re.compile('EMD_ling_[a-z]{4,}_vs_tot')]\n",
    "annotations = ('A', 'B')\n",
    "regions = ['Catalonia', 'Belgium', 'Switzerland']\n",
    "for ax, ylabel, metric, annotation, patt in zip(axes, ylabels, EMD_names, annotations[:2], patts):\n",
    "    labels = ['5', None]\n",
    "    for i in range(2):\n",
    "        y_plot = [y for key, y in data_countries_dict[f'{regions[i]}5'].items() if re.match(patt, key)]\n",
    "        ax.plot(\n",
    "            [xticks[i]]*len(y_plot),\n",
    "            y_plot,\n",
    "            c=cmap[0],\n",
    "            alpha=0.7,\n",
    "            label=labels[i],\n",
    "            ls=':',\n",
    "            marker='x',\n",
    "            ms=6)\n",
    "    labels = ['10', None, None]\n",
    "    for i in range(3):\n",
    "        y_plot = [y for key, y in data_countries_dict[f'{regions[i]}10'].items() if re.match(patt, key)]\n",
    "        ax.plot(\n",
    "            [xticks[i]]*len(y_plot),\n",
    "            y_plot,\n",
    "            c=cmap[1],\n",
    "            alpha=0.7,\n",
    "            label=labels[i],\n",
    "            ls=':',\n",
    "            marker='+',\n",
    "            ms=6)\n",
    "    labels = ['15', None, None]\n",
    "    for i in range(3):\n",
    "        y_plot = [y for key, y in data_countries_dict[f'{regions[i]}15'].items() if re.match(patt, key)]\n",
    "        ax.plot(\n",
    "            [xticks[i]]*len(y_plot),\n",
    "            y_plot,\n",
    "            c=cmap[2],\n",
    "            alpha=0.7,\n",
    "            label=labels[i],\n",
    "            ls=':',\n",
    "            marker='.',\n",
    "            ms=6)\n",
    "    ax.set_xticks(xticks)\n",
    "    ax.set_xticklabels(('Catalonia', 'Belgium', 'Switzerland'), fontsize=small_size+3)\n",
    "    ax.set_ylabel(ylabel, fontsize=small_size+3)\n",
    "    ax.legend(title='cell size (km)')\n",
    "    ax.annotate(annotation, (-0.2, 1), xycoords='axes fraction',\n",
    "                **annotate_kwargs)\n",
    "fig.set_tight_layout(True)\n",
    "fig.savefig(os.path.join(fig_dir, 'all', 'EMR_cell_size_invariance.pdf'))\n",
    "fig.show()"
   ]
  },
  {
   "cell_type": "code",
   "execution_count": null,
   "id": "republican-nigeria",
   "metadata": {},
   "outputs": [],
   "source": []
  }
 ],
 "metadata": {
  "kernelspec": {
   "display_name": "Python 3",
   "language": "python",
   "name": "python3"
  },
  "language_info": {
   "codemirror_mode": {
    "name": "ipython",
    "version": 3
   },
   "file_extension": ".py",
   "mimetype": "text/x-python",
   "name": "python",
   "nbconvert_exporter": "python",
   "pygments_lexer": "ipython3",
   "version": "3.7.9"
  },
  "toc-autonumbering": true
 },
 "nbformat": 4,
 "nbformat_minor": 5
}
